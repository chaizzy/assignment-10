{
 "cells": [
  {
   "cell_type": "code",
   "execution_count": 1,
   "id": "e23d74bd-4196-493e-9865-5296bb04893c",
   "metadata": {},
   "outputs": [],
   "source": [
    "# ANS 1:\n",
    "# There are already built in classes to handle exceptions but in custom exceptions we need to provide context\n",
    "# that's why classes are made\n"
   ]
  },
  {
   "cell_type": "code",
   "execution_count": 2,
   "id": "d77d1c11-c68b-46b9-b81e-67aea7dd27bd",
   "metadata": {},
   "outputs": [
    {
     "name": "stdout",
     "output_type": "stream",
     "text": [
      "division by zero\n"
     ]
    }
   ],
   "source": [
    "# ANS 3:\n",
    "#  ArithematicError is a base class for all arithematic operation\n",
    "# for example ZeroDivisionError , FloatingPointError\n",
    "try:\n",
    "    10/0\n",
    "except ZeroDivisionError as e:\n",
    "    print(e)"
   ]
  },
  {
   "cell_type": "code",
   "execution_count": 3,
   "id": "bf20c396-c7b4-4d2f-8b96-f02b80c25058",
   "metadata": {},
   "outputs": [
    {
     "name": "stdout",
     "output_type": "stream",
     "text": [
      "'key2'\n"
     ]
    }
   ],
   "source": [
    "# ANS 4:\n",
    "# lookup error\n",
    "#The LookupError exception in Python forms the base class for all exceptions that are raised when an index or a key is not found for a sequence or dictionary respectively. \n",
    "#You can use LookupError exception class to handle both IndexError and KeyError exception classes.\n",
    "try :\n",
    "    d={\"key\": \"chai\" , 1:[1,2,3]}\n",
    "    print(d[\"key2\"])\n",
    "except KeyError as e:\n",
    "    print(e)"
   ]
  },
  {
   "cell_type": "code",
   "execution_count": 4,
   "id": "4f7cdb7f-6685-4f48-b2ed-f79aa5c42843",
   "metadata": {},
   "outputs": [
    {
     "name": "stdout",
     "output_type": "stream",
     "text": [
      "list index out of range\n"
     ]
    }
   ],
   "source": [
    "try:\n",
    "    l=[2,3,4,5]\n",
    "    print(l[6])\n",
    "except IndexError as e:\n",
    "    print(e)"
   ]
  },
  {
   "cell_type": "code",
   "execution_count": 5,
   "id": "e80eced8-93cc-4046-a941-19494f5f2a69",
   "metadata": {},
   "outputs": [
    {
     "name": "stdout",
     "output_type": "stream",
     "text": [
      "No module named 'chai'\n"
     ]
    }
   ],
   "source": [
    "# ANS 5:\n",
    "# import error is a base class for all errors when there is no module when we import \n",
    "try:\n",
    "    import chai\n",
    "except ImportError as e:\n",
    "    print(e)\n",
    "# modulenotfound error is a base class when given module is not thre in python language    "
   ]
  },
  {
   "cell_type": "code",
   "execution_count": null,
   "id": "e830cf0f-4660-429c-a0b8-eff460b1636e",
   "metadata": {},
   "outputs": [],
   "source": [
    "# ANS 6:\n",
    "# 1\n",
    "#  2 : print a proper message\n",
    "# 3 : always try to log a error \n",
    "# 4 :always avoid to write a multiple exception handling\n",
    "# 5 : always document all the errors\n",
    "# 6 : always clean up the resorces"
   ]
  }
 ],
 "metadata": {
  "kernelspec": {
   "display_name": "Python 3 (ipykernel)",
   "language": "python",
   "name": "python3"
  },
  "language_info": {
   "codemirror_mode": {
    "name": "ipython",
    "version": 3
   },
   "file_extension": ".py",
   "mimetype": "text/x-python",
   "name": "python",
   "nbconvert_exporter": "python",
   "pygments_lexer": "ipython3",
   "version": "3.10.8"
  }
 },
 "nbformat": 4,
 "nbformat_minor": 5
}
